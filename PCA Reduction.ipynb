{
 "cells": [
  {
   "cell_type": "code",
   "execution_count": 1,
   "id": "cf696168",
   "metadata": {},
   "outputs": [],
   "source": [
    "import pandas as pd\n",
    "import numpy as np\n",
    "import matplotlib.pyplot as plt\n",
    "import seaborn as sns\n",
    "plt.style.use('ggplot')\n",
    "\n",
    "import statsmodels.api as sm\n",
    "from statsmodels.compat import lzip\n",
    "import statsmodels.stats.api as sms\n",
    "from statsmodels.formula.api import ols\n",
    "from scipy.stats import zscore\n",
    "from statsmodels.stats.stattools import durbin_watson\n",
    "from sklearn.model_selection import train_test_split,KFold\n",
    "from statsmodels.stats.outliers_influence import variance_inflation_factor\n",
    "from sklearn.metrics import mean_squared_error\n",
    "from sklearn.feature_selection import RFECV\n",
    "from mlxtend.feature_selection import SequentialFeatureSelector as sfs\n",
    "from mlxtend.plotting import plot_sequential_feature_selection as plot_sfs\n",
    "from sklearn.linear_model import LinearRegression,RidgeCV,LassoCV,ElasticNetCV\n",
    "# Load the dataset\n",
    "airbnb_data = pd.read_csv('airbnb_dataset.csv')"
   ]
  },
  {
   "cell_type": "code",
   "execution_count": 2,
   "id": "4b763935",
   "metadata": {},
   "outputs": [],
   "source": [
    "# Drop columns with no useful information\n",
    "airbnb_data.drop(columns=['last_review','id','host_name','license'], inplace=True)"
   ]
  },
  {
   "cell_type": "code",
   "execution_count": 3,
   "id": "40744973",
   "metadata": {},
   "outputs": [],
   "source": [
    "#replacing all NaN values in 'reviews_per_month' with 0\n",
    "airbnb_data.fillna({'reviews_per_month':0}, inplace=True)\n",
    "#examing changes\n",
    "airbnb_data.isnull().sum()"
   ]
  },
  {
   "cell_type": "code",
   "execution_count": 4,
   "id": "d40e5674",
   "metadata": {},
   "outputs": [],
   "source": [
    "# Removing rows with missing values\n",
    "airbnb_data.dropna(inplace=True)\n",
    "# Rechecking for missing values\n",
    "airbnb_data.isna().sum().sum()"
   ]
  },
  {
   "cell_type": "code",
   "execution_count": 5,
   "id": "b8caaf12",
   "metadata": {},
   "outputs": [],
   "source": [
    "# Remove duplicate rows\n",
    "airbnb_data.drop_duplicates(inplace=True)"
   ]
  },
  {
   "cell_type": "code",
   "execution_count": 11,
   "id": "97c64519",
   "metadata": {},
   "outputs": [],
   "source": [
    "airbnb_data.head(5)"
   ]
  },
  {
   "cell_type": "code",
   "execution_count": 12,
   "id": "6382c6c3",
   "metadata": {},
   "outputs": [],
   "source": [
    "# Creating a new derived attribute 'revenue'\n",
    "airbnb_data['revenue'] = airbnb_data['price'] * airbnb_data['availability_365']"
   ]
  },
  {
   "cell_type": "code",
   "execution_count": 13,
   "id": "4126cdb8",
   "metadata": {},
   "outputs": [],
   "source": [
    "airbnb_data.head(5)"
   ]
  },
  {
   "cell_type": "code",
   "execution_count": 14,
   "id": "66143db1",
   "metadata": {},
   "outputs": [],
   "source": []
  }
 ],
 "metadata": {
  "kernelspec": {
   "display_name": "Python 3 (ipykernel)",
   "language": "python",
   "name": "python3"
  },
  "language_info": {
   "codemirror_mode": {
    "name": "ipython",
    "version": 3
   },
   "file_extension": ".py",
   "mimetype": "text/x-python",
   "name": "python",
   "nbconvert_exporter": "python",
   "pygments_lexer": "ipython3",
   "version": "3.11.4"
  }
 },
 "nbformat": 4,
 "nbformat_minor": 5
}
